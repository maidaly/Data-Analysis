{
 "cells": [
  {
   "cell_type": "markdown",
   "metadata": {
    "_uuid": "741a6c112efdc970b12995dcb1badd12d033f45c"
   },
   "source": [
    "# Arab Countries Ecological Footprint Analysis according to NFA  \n",
    "The National Footprint Accounts (NFAs) measure the ecological resource use and resource capacity of nations over time using . \n",
    "\n",
    "The dataset uses  [the global hectare](https://recyclenation.com/green-glossary/global-hectare-gha/) unit to measure the ecological footprint. The global hectare is based on the area-weighted average productivity of usable land and water in a given year. Because different land types have different productivity, a global hectare of, for example, cropland, would occupy a smaller physical area than the much less biologically productive pasture land, as more pasture would be needed to provide the same biocapacity as one hectare of cropland. Because world bioproductivity varies slightly from year to year, the value of a GHA may change slightly from year to year. \n",
    "we will use this dataset to analyse the ecological footprint of Arab countries or Arab world. \n",
    "\n",
    "![Arab World](https://upload.wikimedia.org/wikipedia/commons/e/e4/The_Arab_Countries.png)[The Arab world](https://en.wikipedia.org/wiki/Arab_world#cite_note-Frishkopf-6) (Arabic: العالم العربيalso known as the Arab nation or the Arab states or countries currently consists of the 22 Arab countries of the Arab League. The Arab League includes Algeria, Bahrain, Comoros, Djibouti, Egypt, Iraq, Jordan, Kuwait, Lebanon, Libya, Mauritania, Morocco, Oman,  Palestine , Qatar, Saudi Arabia, Somalia, Sudan, Syria, Tunisia, the United Arab Emirates, and Yemen. By adding Iran and Turkey they will represent the Middle East and North Africa region or MENA region.    \n",
    "![](https://thumbs.dreamstime.com/b/carte-et-environs-de-ligue-arabe-28727740.jpg)\n",
    "\n",
    "Unfortunately, The dataset dose not include any information about Palestine, hope to include it in the next versions as it is very important Arabic Country. So, the analysis will be for the remaining 21 countries.\n",
    "\n",
    "****Dataset columns descrbtion****\n",
    "\n",
    "***Country: *** Country name\n",
    "\n",
    "***ISO:*** alpha-3 code of the country.\n",
    "\n",
    "***UN_region: *** Region of the country.\n",
    "\n",
    "***UN_subregion: ***Subregion of the country.\n",
    "\n",
    "***year: ***Year in which values are calculated.\n",
    "\n",
    "***record: ***Description of reported global hectares.\n",
    "\n",
    "***crop_land: ***Global hectares of crop land (used for crops & crop-derived products) available or demanded. Biocapacity = Footprint of production because all biocapacity is used for production.\n",
    "\n",
    "***grazing_land: ***Global hectares of grazing land (used for meat, dairy, leather, etc.) available or demanded.\n",
    "Includes global hectares used for grazing, but not crop land used to produce feed for animals.\n",
    "forest_landGlobal hectares of forest land available (for sequestration and timber, pulp, or timber products) or demanded (for timber, pulp, or timber products).\n",
    "\n",
    "***fishing_ground: ***Global hectares of marine and inland fishing grounds (used for fish & fish products) available or demanded.\n",
    "\n",
    "***built_up_land: ***Global hectares of built-up land (land cover of human infrastructure) available or demanded. Not traded. Biocapacity equals Footprint of Production because 100% of biocapacity covered counts as that demanded by infrastructure coverage.\n",
    "\n",
    "***carbon: ***Global hectares of world-average forest required to sequester carbon emissions.\n",
    "\n",
    "***total: ***The sum of all land types for this country, year, and record.\n",
    "\n",
    "***Percapita GDP (2010 USD):  ***Per capita GDP in constant 2010 USD (source: World Bank).\n",
    "\n",
    "***population: ***population rounded to thousands (FAO estimate).\n"
   ]
  },
  {
   "cell_type": "code",
   "execution_count": 1,
   "metadata": {
    "_cell_guid": "b1076dfc-b9ad-4769-8c92-a6c4dae69d19",
    "_uuid": "8f2839f25d086af736a60e9eeb907d3b93b6e0e5"
   },
   "outputs": [
    {
     "ename": "FileNotFoundError",
     "evalue": "[WinError 3] The system cannot find the path specified: '../input'",
     "output_type": "error",
     "traceback": [
      "\u001b[1;31m---------------------------------------------------------------------------\u001b[0m",
      "\u001b[1;31mFileNotFoundError\u001b[0m                         Traceback (most recent call last)",
      "\u001b[1;32m<ipython-input-1-78761e6319b7>\u001b[0m in \u001b[0;36m<module>\u001b[1;34m()\u001b[0m\n\u001b[0;32m     12\u001b[0m \u001b[1;33m\u001b[0m\u001b[0m\n\u001b[0;32m     13\u001b[0m \u001b[1;32mimport\u001b[0m \u001b[0mos\u001b[0m\u001b[1;33m\u001b[0m\u001b[0m\n\u001b[1;32m---> 14\u001b[1;33m \u001b[0mprint\u001b[0m\u001b[1;33m(\u001b[0m\u001b[0mos\u001b[0m\u001b[1;33m.\u001b[0m\u001b[0mlistdir\u001b[0m\u001b[1;33m(\u001b[0m\u001b[1;34m\"../input\"\u001b[0m\u001b[1;33m)\u001b[0m\u001b[1;33m)\u001b[0m\u001b[1;33m\u001b[0m\u001b[0m\n\u001b[0m\u001b[0;32m     15\u001b[0m \u001b[0mget_ipython\u001b[0m\u001b[1;33m(\u001b[0m\u001b[1;33m)\u001b[0m\u001b[1;33m.\u001b[0m\u001b[0mrun_line_magic\u001b[0m\u001b[1;33m(\u001b[0m\u001b[1;34m'matplotlib'\u001b[0m\u001b[1;33m,\u001b[0m \u001b[1;34m'inline'\u001b[0m\u001b[1;33m)\u001b[0m\u001b[1;33m\u001b[0m\u001b[0m\n\u001b[0;32m     16\u001b[0m \u001b[0msns\u001b[0m\u001b[1;33m.\u001b[0m\u001b[0mset\u001b[0m\u001b[1;33m(\u001b[0m\u001b[0mfont_scale\u001b[0m\u001b[1;33m=\u001b[0m\u001b[1;36m1.1\u001b[0m\u001b[1;33m)\u001b[0m\u001b[1;33m\u001b[0m\u001b[0m\n",
      "\u001b[1;31mFileNotFoundError\u001b[0m: [WinError 3] The system cannot find the path specified: '../input'"
     ]
    }
   ],
   "source": [
    "# This Python 3 environment comes with many helpful analytics libraries installed\n",
    "\n",
    "\n",
    "import numpy as np # linear algebra\n",
    "import pandas as pd # data processing, CSV file I/O (e.g. pd.read_csv)\n",
    "import seaborn as sns\n",
    "import matplotlib.pyplot as plt\n",
    "import math\n",
    "# Input data files are available in the \"../input/\" directory.\n",
    "# For example, running this (by clicking run or pressing Shift+Enter) will list the files in the input directory\n",
    "\n",
    "%matplotlib inline\n",
    "sns.set(font_scale=1.1)\n",
    "# Any results you write to the current directory are saved as output."
   ]
  },
  {
   "cell_type": "code",
   "execution_count": null,
   "metadata": {
    "_cell_guid": "79c7e3d0-c299-4dcb-8224-4455121ee9b0",
    "_uuid": "d629ff2d2480ee46fbb7e2d37f6b5fab8052498a"
   },
   "outputs": [],
   "source": [
    "data = pd.read_csv(\"../input/NFA 2018.csv\")"
   ]
  },
  {
   "cell_type": "code",
   "execution_count": null,
   "metadata": {
    "_uuid": "58a205df86ef886e2b7f9626f9138104a2e807b1"
   },
   "outputs": [],
   "source": [
    "data.sample(10)"
   ]
  },
  {
   "cell_type": "code",
   "execution_count": null,
   "metadata": {
    "_uuid": "f2fab948396645d298ebd55317ff88cf97399202",
    "scrolled": true
   },
   "outputs": [],
   "source": [
    "data.describe()"
   ]
  },
  {
   "cell_type": "code",
   "execution_count": null,
   "metadata": {
    "_uuid": "e5153d8a4b5f91b2ac9b953212c4dc64038c2b60"
   },
   "outputs": [],
   "source": [
    "data.info()"
   ]
  },
  {
   "cell_type": "code",
   "execution_count": null,
   "metadata": {
    "_kg_hide-input": true,
    "_uuid": "0bd1b654df245850e02fbf75e8e77d8397e10227"
   },
   "outputs": [],
   "source": [
    "def extract_country_by_record(df,country_name,record):\n",
    "    country_foot_print=df[df.country.isin([country_name])]\n",
    "    country_by_record = country_foot_print [country_foot_print.record.isin([record])]\n",
    "    return country_by_record\n",
    "\n",
    "def extract_countries_feature_by_year (df,countries_list,feature,year,record=\"BiocapPerCap\"):\n",
    "    excluded_countries=[]\n",
    "    feature_values=[]\n",
    "    available_countries=[]\n",
    "    for i in range (0,len(countries_list)):\n",
    "        country_by_record = extract_country_by_record(df,countries_list[i],record)\n",
    "        feature_value = country_by_record.loc[lambda df1: country_by_record.year == year][feature].values\n",
    "        if  feature_value.size==0 or math.isnan(feature_value[0]) :\n",
    "            excluded_countries.append(countries_list[i])\n",
    "        else:\n",
    "            feature_values.append(feature_value[0]) \n",
    "            available_countries.append(countries_list[i])\n",
    "            \n",
    "#  activate if you need to print the excluded countries in the year\n",
    "#     if len(excluded_countries) != 0:\n",
    "#         print(\"excluded countries in {0} are : \".format(year))\n",
    "#         for i in excluded_countries:\n",
    "#             print(i)\n",
    "    return feature_values, available_countries, excluded_countries \n",
    "def print_excluded_countries (excluded_countries,year):\n",
    "    if len(excluded_countries) != 0:\n",
    "        print(\"excluded countries from dataset in {0} are : \".format(year))\n",
    "        for i in excluded_countries:\n",
    "            print(i)   \n",
    "            \n",
    "def calculate_growth_rate(present,past,period):\n",
    "    #present : present year , past: past year , period: number of years between present and past\n",
    "    percentage_growth_rate = ((present - past)/(past*period))*100\n",
    "    return percentage_growth_rate\n",
    "    "
   ]
  },
  {
   "cell_type": "code",
   "execution_count": null,
   "metadata": {
    "_uuid": "ab16f22a3cf374e64a9ede52d61e05382e091e10"
   },
   "outputs": [],
   "source": [
    "arab_countries = ['Egypt','Algeria','Bahrain','Libyan Arab Jamahiriya',\n",
    "                 'Jordan','Iraq','Mauritania','Morocco',\n",
    "                  'Saudi Arabia','Kuwait','Qatar','Sudan (former)',\n",
    "                 'Oman','Tunisia','United Arab Emirates','Yemen',\n",
    "                  'Lebanon','Syrian Arab Republic','Somalia','Comoros','Djibouti']\n",
    "\n",
    "colors = ['blue','xkcd:medium grey','red','green','pink',\n",
    "          'xkcd:muted blue','yellow','magenta','brown',\n",
    "          'orange','xkcd:tan','xkcd:seafoam','tab:olive',\n",
    "          'xkcd:turquoise','xkcd:mauve','xkcd:acid green',\n",
    "          'xkcd:bland','xkcd:coral','xkcd:chocolate','xkcd:red purple',\n",
    "          'xkcd:bright lilac','xkcd:heather']\n",
    "\n",
    "years=np.sort(data.year.unique())\n",
    "\n",
    "arab_df = pd.DataFrame()\n",
    "for country in arab_countries:\n",
    "    arab_df=arab_df.append(data[data.country.isin([country])])\n"
   ]
  },
  {
   "cell_type": "markdown",
   "metadata": {
    "_uuid": "eb72e17b8a79709eade159486db27f6276e39c00"
   },
   "source": [
    "**Arab countries distrbution according to regions**"
   ]
  },
  {
   "cell_type": "code",
   "execution_count": null,
   "metadata": {
    "_kg_hide-input": true,
    "_uuid": "1f7f95197d279551a8575135509fe76c4de1a23e"
   },
   "outputs": [],
   "source": [
    "fig= plt.figure(figsize=(15,7))\n",
    "regoin=[]\n",
    "sub_region=[]\n",
    "for country in arab_countries:\n",
    "    regoin.append(arab_df[arab_df.country.isin([country])][\"UN_region\"].unique()[0])\n",
    "    sub_region.append(arab_df[arab_df.country.isin([country])][\"UN_subregion\"].unique()[0])\n",
    "plt.subplot2grid((1,2),(0,0))\n",
    "sns.countplot(pd.Series(regoin))\n",
    "plt.title(\"Arab countries distrbution according to regions\")\n",
    "plt.subplot2grid((1,2),(0,1))\n",
    "sns.countplot(pd.Series(sub_region))\n",
    "plt.title(\"Arab countries distrbution according to subregions\")\n",
    "\n"
   ]
  },
  {
   "cell_type": "markdown",
   "metadata": {
    "_uuid": "341759ba655f039605383d664b79eb04787d910a"
   },
   "source": [
    "# Population analysis\n",
    "The dataset dose not have population data of Sudan because after the end of the civil war Sudan splits into two countries Sudan in the north and South Sudan in the south that why sudan found under name Sudan (former) . Even that Sudan is considered one of the most populated arab countries with population reached approximately to 40 million. \n",
    " As we compare between the countries according to the available data which ended in 2014. We appended the population of Sudan to the list to have more clear comparison. The source of population data of sudan in 2014 is [here](https://www.google.com.eg/publicdata/explore?ds=d5bncppjof8f9_&ctype=l&strail=false&bcs=d&nselm=h&met_y=sp_pop_totl&scale_y=lin&ind_y=false&rdim=country&idim=country:SDN&ifdim=country&hl=en&dl=en&ind=false&icfg) .\n",
    "\n",
    "![](http://newsimg.bbc.co.uk/media/images/42426000/gif/_42426259_sou_sud_jub_map203.gif)"
   ]
  },
  {
   "cell_type": "markdown",
   "metadata": {
    "_uuid": "3c77eb105cecbf17c911637bb231aed0cc9dbe06"
   },
   "source": [
    "**Population distrbution across Arab countries**"
   ]
  },
  {
   "cell_type": "code",
   "execution_count": null,
   "metadata": {
    "_kg_hide-input": true,
    "_uuid": "c08a11b1891546a86cd93ac750ca184509e72b2f",
    "scrolled": false
   },
   "outputs": [],
   "source": [
    "fig = plt.figure(figsize=(15,20))\n",
    "plt.subplot2grid((2,1),(0,0))\n",
    "population,available_countries,excluded_countries=extract_countries_feature_by_year(arab_df,arab_countries,'population',2014)\n",
    "population_df = pd.DataFrame({'countery':available_countries,'population':population}).sort_values(by='population',ascending=False)\n",
    "population_list = list (population_df['population'])\n",
    "# to avoid overlab of labels at the small slices in the chart the explode added \n",
    "# the explode len must be the same len of the pie data and adding excluded values to the equivalent pos of the required elements\n",
    "# and the remaining elements left 0, the explode could be list or set\n",
    "explode = (0,0,0,0,0,0,0,0,0,0,0,0,0,0,0,0,0.1,0.3,0.5,0.7)\n",
    "wedges, texts, autotexts = plt.pie(population_list, autopct= '%.1f%%',textprops=dict(color=\"black\"),\n",
    "                           colors= colors, labels= list(population_df['countery']),explode=explode,labeldistance =1.03)\n",
    "# plt.legend(wedges, list(df['countery']),\n",
    "#           title=\"Countries\",\n",
    "#           loc=\"center left\",\n",
    "#           bbox_to_anchor=(1, 0, 0.5, 1))\n",
    "# plt.setp(autotexts, size=10, weight=\"bold\")\n",
    "plt.title(\"Population distribution in Arab countries(without Sudan)\")\n",
    "plt.subplot2grid((2,1),(1,0))\n",
    "available_countries.append(\"Sudan\")\n",
    "population.append(37737900)\n",
    "population_df = pd.DataFrame({'countery':available_countries,'population':population}).sort_values(by='population',ascending=False)\n",
    "population_list = list (population_df['population'])\n",
    "explode = (0,0,0,0,0,0,0,0,0,0,0,0,0,0,0,0,0,0.1,0.3,0.5,0.7)\n",
    "wedges, texts, autotexts = plt.pie(population_list, autopct= '%1.1f%%',textprops=dict(color=\"black\"),\n",
    "                           colors= colors, labels= list(population_df['countery']),explode=explode,labeldistance =1.03)\n",
    "plt.title(\"Population distribution in Arab countries (Sudan added)\")\n",
    "print_excluded_countries(excluded_countries,2014)\n"
   ]
  },
  {
   "cell_type": "markdown",
   "metadata": {
    "_uuid": "fc1cdc042b82acaf68e63f40fd4193234a4028a7"
   },
   "source": [
    "As shown, almost quarter of the population are egyptions. That is the reason why egypt is considered a gaint power in arab world and translate its importance in the region.\n",
    "\n"
   ]
  },
  {
   "cell_type": "code",
   "execution_count": null,
   "metadata": {
    "_kg_hide-input": true,
    "_uuid": "7f4847b6e9a2da694253eeb9d17c95f1bf50814b",
    "scrolled": true
   },
   "outputs": [],
   "source": [
    "fig = plt.figure(figsize=(14,9))\n",
    "ax = sns.barplot(population_df['population'],population_df['countery'], palette=\"Blues_d\")\n",
    "population_list = list (np.array(population_df['population'])/10**6)\n",
    "list_counter = 0\n",
    "# annotating the values\n",
    "for p in ax.patches:        \n",
    "    x = p.get_bbox().get_points()[:,0]\n",
    "    y = p.get_bbox().get_points()[:,1]\n",
    "    ax.annotate(str(population_list[list_counter])+\" M\" , (x.max()+500000, y.mean()), \n",
    "                horizontalalignment='left',\n",
    "                verticalalignment='center')\n",
    "    list_counter += 1\n",
    "plt.ylabel(\"\")\n",
    "plt.title(\"Arab countries by population [2014]\")\n",
    "\n",
    "print (\"The total Population of Arab countries in 2014 according to the available data and with adding Sudan is: {0}\".format(np.sum(population_df['population'])))\n"
   ]
  },
  {
   "cell_type": "markdown",
   "metadata": {
    "_uuid": "1725499007f441b010024d2c74c1698f66810a77"
   },
   "source": [
    "**Population growth  comparison**"
   ]
  },
  {
   "cell_type": "code",
   "execution_count": null,
   "metadata": {
    "_kg_hide-input": true,
    "_uuid": "b2fcfd3dd750983872a4ea2c76b19afd471b11f9"
   },
   "outputs": [],
   "source": [
    "plt.figure(figsize=(15,10))\n",
    "for i in range(len(arab_countries)):\n",
    "    country_by_record = extract_country_by_record(arab_df,arab_countries[i],'BiocapPerCap')\n",
    "    sns.lineplot(country_by_record['year'],country_by_record['population'],\n",
    "             label=arab_countries[i],\n",
    "             color = colors[i])\n",
    "    \n",
    "# plt.gca().set_color_cycle(colors)\n",
    "plt.legend()\n",
    "plt.title(\"Population growth  in Arab Countries\")\n",
    "plt.show()"
   ]
  },
  {
   "cell_type": "markdown",
   "metadata": {
    "_uuid": "0098533837b2419be70177329f42b71e53883614"
   },
   "source": [
    "**Population growth rate**"
   ]
  },
  {
   "cell_type": "code",
   "execution_count": null,
   "metadata": {
    "_kg_hide-input": true,
    "_uuid": "8720e4424dad8b29a92ee85266a953ebb28d372b"
   },
   "outputs": [],
   "source": [
    "population_2000,available_countries,excluded_countries_2000=extract_countries_feature_by_year(arab_df,arab_countries,'population',2000)\n",
    "population_2010,available_countries,excluded_countries_2010=extract_countries_feature_by_year(arab_df,arab_countries,'population',2010)\n",
    "population_growth_rate = []\n",
    "for i in range (0,len(population_2000)):\n",
    "    growth_rate = calculate_growth_rate(population_2010[i],population_2000[i],10)\n",
    "    population_growth_rate.append(growth_rate)\n",
    "growth_rate_df = pd.DataFrame({\"country\":available_countries,\"growth rate\":population_growth_rate}).sort_values(by=\"growth rate\",ascending=False)\n",
    "print_excluded_countries(excluded_countries_2000,2000)  \n",
    "print_excluded_countries(excluded_countries_2010,2010)\n",
    "growth_rate_df"
   ]
  },
  {
   "cell_type": "code",
   "execution_count": null,
   "metadata": {
    "_kg_hide-input": true,
    "_uuid": "f1d1da3718407a89bbc0b612aafbec0ef373eead"
   },
   "outputs": [],
   "source": [
    "fig = plt.figure(figsize=(13,10))\n",
    "ax = sns.barplot(growth_rate_df[\"growth rate\"],growth_rate_df[\"country\"],palette=\"rocket\")\n",
    "growth_rate_list = list(np.round(np.array(growth_rate_df[\"growth rate\"]),2))\n",
    "list_counter = 0\n",
    "# annotating the values\n",
    "for p in ax.patches:        \n",
    "    x = p.get_bbox().get_points()[:,0]\n",
    "    y = p.get_bbox().get_points()[:,1]\n",
    "    ax.annotate(str(growth_rate_list[list_counter] )+ \" %\" , (x.max()+0.1, y.mean()), \n",
    "                horizontalalignment='left',\n",
    "                verticalalignment='center',size=12)\n",
    "    list_counter += 1\n",
    "plt.xlabel(\"annual growth rate\")\n",
    "plt.ylabel(\"\")\n",
    "plt.title(\"Arab countries by annual population growth rate from [2000-2010]\")\n"
   ]
  },
  {
   "cell_type": "markdown",
   "metadata": {
    "_uuid": "902f8109689daa7b8f0dafb3bc5d6f98d231afa7"
   },
   "source": [
    "The plot shows that the Gulf countries (Qatar, UAE, Kuwait, Baharin) had the highest population growth from 2000 to 2010.The Gulf countries is the richest countries in the Arab world and one of the richest regions in the world. In this period they had a high immigration rate from the other arab countries and from other Asian countries. So, I think that is the reason why they had such a high growth rate. "
   ]
  },
  {
   "cell_type": "code",
   "execution_count": null,
   "metadata": {
    "_kg_hide-input": true,
    "_uuid": "b7ce7a44422fb871e452627ffa292873fb86a6dd"
   },
   "outputs": [],
   "source": [
    "arab_countrs_population = []\n",
    "for year in years:\n",
    "    sum_population_per_year = np.array(extract_countries_feature_by_year(arab_df,arab_countries,'population',year)[0]).sum()\n",
    "    arab_countrs_population.append(sum_population_per_year)\n"
   ]
  },
  {
   "cell_type": "code",
   "execution_count": null,
   "metadata": {
    "_kg_hide-input": true,
    "_uuid": "41673f5d1f43957f9cfe483b375f8acc8713932a"
   },
   "outputs": [],
   "source": [
    "fig = plt.figure(figsize=(12,6))\n",
    "# The period from 1985 to 2010\n",
    "sns.lineplot(years[24:49],arab_countrs_population[24:49])\n",
    "plt.xlabel(\"year\")\n",
    "plt.ylabel(\"population\")\n",
    "plt.title(\"Arab countries population growth from 1985 to 2010\")\n",
    "arab_population_growth_rate = calculate_growth_rate(arab_countrs_population[49],arab_countrs_population[24],25)\n",
    "plt.text(1985,3.1*10**8,\"growth rate = {0}%\".format(np.round(arab_population_growth_rate,2)),size=15)\n"
   ]
  },
  {
   "cell_type": "markdown",
   "metadata": {
    "_uuid": "5fc50c9c91b2c10a12249a8932537f8c043f1751"
   },
   "source": [
    "In the growth rate analysis the period from 1985 to 2010 is chosen because all the countries has available data in this period exept for Kuwait which had avilable data forom the begining of 1999 and Saudi Arabia which is not included as its data is available only in 2014 ."
   ]
  },
  {
   "cell_type": "markdown",
   "metadata": {
    "_uuid": "8b5274c23812c1d2c9eb87c0346914df896696e6"
   },
   "source": [
    "# Gross Domestic Product (GDP) analysis\n",
    "\n",
    "Gross domestic product (GDP) is the best way to measure a country's economy. GDP is the total value of all products produced by the people and companies in the country. It doesn't matter if they are citizens or foreign-owned companies. If they are located within the country's boundaries, the government counts their production as GDP.\n",
    "In the dataset there is the GDP per Capita for countries which is considered a better way to compare the GDP between them. This divides GDP by the population.So, It’s a good way to measure  the country's standard of living.\n"
   ]
  },
  {
   "cell_type": "markdown",
   "metadata": {
    "_uuid": "0fb11770b5b67a8f77e4f510a1c1548bbe13785b"
   },
   "source": [
    "**The  countries by GDP**"
   ]
  },
  {
   "cell_type": "code",
   "execution_count": null,
   "metadata": {
    "_kg_hide-input": true,
    "_uuid": "32fbb95fef65aae8346dd375c75c135e0238c4e8",
    "scrolled": true
   },
   "outputs": [],
   "source": [
    "fig = plt.figure(figsize=(15,8))\n",
    "GDP,available_countries, excluded_countries=extract_countries_feature_by_year(arab_df,arab_countries,'Percapita GDP (2010 USD)',2014)\n",
    "GDP_df = pd.DataFrame({'country':available_countries,'GDP':GDP}).sort_values(by='GDP',ascending=False)\n",
    "ax=sns.barplot(GDP_df['GDP'],GDP_df['country'],palette=\"Blues_d\")\n",
    "gdp_list = list (GDP_df['GDP'])\n",
    "list_counter = 0\n",
    "# annotating the values\n",
    "for p in ax.patches:        \n",
    "    x = p.get_bbox().get_points()[:,0]\n",
    "    y = p.get_bbox().get_points()[:,1]\n",
    "    ax.annotate(str(gdp_list[list_counter] )+ \" $\" , (x.max()+500, y.mean()), \n",
    "                horizontalalignment='left',\n",
    "                verticalalignment='center')\n",
    "    list_counter += 1\n",
    "plt.xlabel(\"GDP per Capita\")\n",
    "plt.title(\"Arab Countries by GDP in 2014\")\n",
    "print_excluded_countries(excluded_countries,2014)\n"
   ]
  },
  {
   "cell_type": "markdown",
   "metadata": {
    "_uuid": "3624bf58dd663b20c31d12d49baeeeea26201bcb"
   },
   "source": [
    "The analysis shows that Qatar has the highest GDP per Capita in the arab countries and Comoros has the lowest one . It is reflecting the fact that Qatar is one of the richest countries in the world supported by its wealth from exploiting its natural gas reserves and the newest member in arab league Comoros is considerd one of the poorest countries in the world. "
   ]
  },
  {
   "cell_type": "markdown",
   "metadata": {
    "_uuid": "d624597d22ab6ed71ed7131f0a0b126444862df9"
   },
   "source": [
    "**Comparison between arab countries GDP over years **"
   ]
  },
  {
   "cell_type": "code",
   "execution_count": null,
   "metadata": {
    "_kg_hide-input": true,
    "_uuid": "dec15e840f0f9a2182156920cc80349d1c95f447"
   },
   "outputs": [],
   "source": [
    "plt.figure(figsize=(15,8))\n",
    "for i in range(len(arab_countries)):\n",
    "    country_by_record = extract_country_by_record(arab_df,arab_countries[i],'BiocapPerCap')\n",
    "    sns.lineplot(country_by_record['year'],\n",
    "                 country_by_record['Percapita GDP (2010 USD)'], \n",
    "                 label=arab_countries[i],color = colors[i])\n",
    "    y_text_label = country_by_record.loc[lambda df: country_by_record.year == 2014]['Percapita GDP (2010 USD)'].values \n",
    "    if arab_countries[i] in list(GDP_df.country[0:8]) and y_text_label.size!=0 and not math.isnan(y_text_label[0]) :\n",
    "        plt.text(2015,y_text_label[0], arab_countries[i])\n",
    "\n",
    "    if arab_countries[i] in list(GDP_df.country[0:6]) and y_text_label.size!=0 and not math.isnan(y_text_label[0]) :\n",
    "        plt.text(2015,y_text_label[0], arab_countries[i])\n",
    "World_by_record = extract_country_by_record(data,'World','BiocapPerCap')\n",
    "ax = sns.lineplot(World_by_record['year'],\n",
    "             World_by_record['Percapita GDP (2010 USD)'], \n",
    "             label='World',color = 'red',linewidth=3) \n",
    "ax.lines[18].set_linestyle(\"--\")\n",
    "plt.text(2015,World_by_record.loc[lambda df: World_by_record.year == 2014]['Percapita GDP (2010 USD)'].values [0],'World',color='red')\n",
    "# plt.gca().set_color_cycle(colors)\n",
    "plt.legend()\n",
    "plt.title(\"Percapita GDP for Arab Contries\")"
   ]
  },
  {
   "cell_type": "markdown",
   "metadata": {
    "_uuid": "1b4b85a3ed003a0a167837702232ad88135513c7"
   },
   "source": [
    "The figure shows that there are only 6 countries above world avarage GDP . The countries are (Qatar, United Arab Emirates, Kuwait, Saudi Arabia, Bahrain, Oman ) . They are the arab states of the Arabian Gulf  as they all border the body of water of that gulf. They are often referred to as \"The Gulf Cooperation Council (GCC) states\" or \"Gulf countries\".  The Gulf countries have  enormous oil and natural gas resources. In the past the oil and gas resources were the  backbone of the countries economoy. But recentely, they try to find another resources to support the economy such as the tourism and other investments. \n",
    "![Arab states of the Arabian Gulf](https://upload.wikimedia.org/wikipedia/commons/thumb/5/55/Persian_Gulf_Arab_States_english.PNG/250px-Persian_Gulf_Arab_States_english.PNG)\n",
    "\n",
    "The figure also shows that Libya had above world average GDP before 2010  but the political instability of the country from 2011 leads to this heavey drop on its GDP. and there is also some drop in Iraq GDP after 2003 due to the American invasion.\n"
   ]
  },
  {
   "cell_type": "code",
   "execution_count": null,
   "metadata": {
    "_kg_hide-input": true,
    "_uuid": "8bdf62f06361f85dc7384b502b2b95f5c95b1ddc"
   },
   "outputs": [],
   "source": [
    "mean_GDP = []\n",
    "for year in years :\n",
    "    mean_GDP.append(np.array(extract_countries_feature_by_year(arab_df,arab_countries,'Percapita GDP (2010 USD)',year)[0]).mean())"
   ]
  },
  {
   "cell_type": "markdown",
   "metadata": {
    "_uuid": "82957bdb56c484b36210e50abc03139fe6eb2479"
   },
   "source": [
    "**Mean value of the GDP **"
   ]
  },
  {
   "cell_type": "code",
   "execution_count": null,
   "metadata": {
    "_kg_hide-input": true,
    "_uuid": "3c350ff8fadb6c93777d8e1bc7996e44309f922c"
   },
   "outputs": [],
   "source": [
    "fig = plt.figure(figsize=(18,6))\n",
    "plt.subplot2grid((1,2),(0,0))          # plot GDP from 1961 to 2014\n",
    "sns.lineplot(years, mean_GDP)\n",
    "plt.xlabel(\"year\")\n",
    "plt.ylabel(\"mean GDP value\")\n",
    "plt.title(\"Mean of the GDP from 1961 to 2014\")\n",
    "plt.subplot2grid((1,2),(0,1))           # plot GDP from 2000 to 2014 \n",
    "sns.lineplot(years[39:], mean_GDP[39:])\n",
    "plt.xlabel(\"year\")\n",
    "plt.ylabel(\"mean GDP value\")\n",
    "plt.title(\"Mean of the GDP from 2000 to 2014\")\n"
   ]
  },
  {
   "cell_type": "markdown",
   "metadata": {
    "_uuid": "9417fe22c841518901a870fb6a03febf1e81f981"
   },
   "source": [
    "The first plot shows the mean value of the GDP from 1961 to 2014. But the dataset dose not have the GDP data of the gulf countries before 1980 and after adding United Arab Emirates to the calcultion the spike occurs at 1980. From 2000 to 2014 most of GDP data for countries are available expet for Saudi Arabia which has available data only in 2014.\n"
   ]
  },
  {
   "cell_type": "markdown",
   "metadata": {
    "_uuid": "c61bb0451a927715769854c4bfcdf7f3cd44ebac"
   },
   "source": [
    "# Ecological footprint analysis\n",
    "[The Ecological footprint ](https://en.wikipedia.org/wiki/Ecological_footprint) is a way to measure the interaction between people and the enviroment or nature by measuring the needs of people from nature and the ability of nature to renew this needs. so, the footprint depends heavily on the number of people and thier ways and behaviors in consumption the natural resources.\n",
    "\n",
    "The biocapacity is the way to represent the available amount of natural resources for human consumptions. The biocapacity of an area is calculated by multiplying the actual physical area by the yield factor and the appropriate equivalence factor. \n",
    " "
   ]
  },
  {
   "cell_type": "markdown",
   "metadata": {
    "_uuid": "a29b7a5802fe4841794ab7fabd276bba80eef92c"
   },
   "source": [
    "**Correlation between features according to ecological footprint **"
   ]
  },
  {
   "cell_type": "code",
   "execution_count": null,
   "metadata": {
    "_kg_hide-input": true,
    "_uuid": "679a9c39c1c81d12b589822b3e5702e06f10b15a",
    "scrolled": true
   },
   "outputs": [],
   "source": [
    "arab_consumption_corr=arab_df[arab_df.record.isin([\"EFConsPerCap\"])].drop('year',axis=1).corr()\n",
    "fig=plt.figure(figsize=(10, 10))\n",
    "sns.heatmap(arab_consumption_corr, vmax=.8, linewidths=0.01,\n",
    "            square=True,annot=True,cmap='Reds',linecolor=\"white\",cbar=False,annot_kws={\"size\":12})\n",
    "plt.title('Correlation between features according to ecological footprint (per person)')"
   ]
  },
  {
   "cell_type": "markdown",
   "metadata": {
    "_uuid": "fbef5891c1c17e1422702a662c5302738c314191"
   },
   "source": [
    "The plot shows that the strong correlation between the total consumption and the GDP. The higher the GDP the higher the consumption."
   ]
  },
  {
   "cell_type": "markdown",
   "metadata": {
    "_uuid": "d632509883d007d7b9e53302489d13701b4d8595"
   },
   "source": [
    "**Correlation between features according to biocapcity**"
   ]
  },
  {
   "cell_type": "code",
   "execution_count": null,
   "metadata": {
    "_kg_hide-input": true,
    "_uuid": "0ab627737d73b2bf1879d11b32084a6c23df5cdf"
   },
   "outputs": [],
   "source": [
    "biocapcity_corr=arab_df[arab_df.record.isin([\"BiocapPerCap\"])].drop('year',axis=1).corr()\n",
    "fig=plt.figure(figsize=(10, 10))\n",
    "sns.heatmap(biocapcity_corr, vmax=.8, linewidths=0.01,\n",
    "            square=True,annot=True,cmap='Reds',linecolor=\"white\",cbar=False,annot_kws={\"size\":12})\n",
    "plt.title('Correlation between features according to biocapcity')"
   ]
  },
  {
   "cell_type": "markdown",
   "metadata": {
    "_uuid": "95107e765c140f54b9a4ccde6ba12f1df80e3016"
   },
   "source": [
    "**Countries by Biocapacity and Ecological Footprint **\n",
    "\n",
    "The high the gab between the biocapacity and the consumption for biocapacity means that the country has the enough natural resources to cover its needs. So, in this section we will analyse the available data for biocapacity and Ecological Footprint Consumption (EFCons) to see if the resources is enough to cover people consumption.  "
   ]
  },
  {
   "cell_type": "code",
   "execution_count": null,
   "metadata": {
    "_kg_hide-input": true,
    "_uuid": "87fa195f67668b5afca093151adb691e95f64f94"
   },
   "outputs": [],
   "source": [
    "fig = plt.figure(figsize=(25,10))\n",
    "plt.subplot2grid((1,2),(0,0))\n",
    "BiocapPerCap,available_countries,excluded_countries=extract_countries_feature_by_year(arab_df,arab_countries,'total',2014)\n",
    "BiocapPerCap_df = pd.DataFrame({'country':available_countries,'BiocapPerCap':BiocapPerCap}).sort_values(by='BiocapPerCap',ascending=False)\n",
    "ax=sns.barplot(BiocapPerCap_df['BiocapPerCap'],BiocapPerCap_df['country'],palette=\"Blues_d\")\n",
    "\n",
    "plt.xlabel(\"Biocapacity per Capita\")\n",
    "plt.ylabel(\"\")\n",
    "\n",
    "plt.title(\"Arab Countries by Biocapacity per capita in 2014\")\n",
    "\n",
    "plt.subplot2grid((1,2),(0,1))\n",
    "EFConsPerCap,available_countries,excluded_countries=extract_countries_feature_by_year(arab_df,arab_countries,'total',2014,record=\"EFConsPerCap\")\n",
    "EFConsPerCap_df = pd.DataFrame({'country':available_countries,'EFConsPerCap':EFConsPerCap}).sort_values(by='EFConsPerCap',ascending=False)\n",
    "ax=sns.barplot(EFConsPerCap_df['EFConsPerCap'],EFConsPerCap_df['country'],palette=\"rocket\")\n",
    "plt.xlabel(\"EFConsPerCap\")\n",
    "plt.title(\"Arab Countries by Ecological Footprint per capita in 2014\")\n",
    "plt.ylabel(\"\")\n",
    "print_excluded_countries(excluded_countries,2014)"
   ]
  },
  {
   "cell_type": "code",
   "execution_count": null,
   "metadata": {
    "_kg_hide-input": true,
    "_uuid": "d977d01ba405dc41a5dbbdeee72e5e91c4b6326f"
   },
   "outputs": [],
   "source": [
    "plt.figure(figsize=(15,10))\n",
    "for i in range(len(arab_countries)):\n",
    "    plt.plot(extract_country_by_record(arab_df,arab_countries[i],'BiocapPerCap')['year'],\n",
    "             extract_country_by_record(arab_df,arab_countries[i],'BiocapPerCap')['total'], \n",
    "             label=arab_countries[i],\n",
    "             color = colors[i])\n",
    "    \n",
    "# plt.gca().set_color_cycle(colors)\n",
    "plt.legend()\n",
    "plt.title(\"Arab Countries Biocapacity per capita\")"
   ]
  },
  {
   "cell_type": "markdown",
   "metadata": {
    "_uuid": "a9bf77f807a29a5aabac301f3227796ddb654899"
   },
   "source": [
    "**Ecological Footprint vs Biocapcity for  Egypt**\n",
    "\n",
    "As it is the biggest country in the Arab World and one of the biggest in the Middle East area.  So, it is the highest contributor in the calculation."
   ]
  },
  {
   "cell_type": "code",
   "execution_count": null,
   "metadata": {
    "_kg_hide-input": true,
    "_uuid": "8d57193589796dc8d393a29ece70ad811b95b332"
   },
   "outputs": [],
   "source": [
    "plt.figure(figsize=(20,5))\n",
    "plt.subplot2grid((1,2),(0,0))\n",
    "plt.plot(extract_country_by_record(arab_df,'Egypt','BiocapPerCap')['year'],\n",
    "         extract_country_by_record(arab_df,'Egypt','BiocapPerCap')['total'],\n",
    "         color='green',\n",
    "         label = 'BiocapTotGHA')\n",
    "plt.plot(extract_country_by_record(arab_df,'Egypt','EFConsPerCap')['year'],\n",
    "         extract_country_by_record(arab_df,'Egypt','EFConsPerCap')['total'],\n",
    "         color='red',\n",
    "         label = 'EFConsTotGHA')\n",
    "plt.title(\" Ecological Footprint vs Biocapacity for Egypt per capicta\")\n",
    "plt.subplot2grid((1,2),(0,1))\n",
    "plt.plot(extract_country_by_record(arab_df,'Egypt','BiocapTotGHA')['year'],\n",
    "         extract_country_by_record(arab_df,'Egypt','BiocapTotGHA')['total'],\n",
    "         color='green',\n",
    "         label = 'BiocapTotGHA')\n",
    "plt.plot(extract_country_by_record(arab_df,'Egypt','EFConsTotGHA')['year'],\n",
    "         extract_country_by_record(arab_df,'Egypt','EFConsTotGHA')['total'],\n",
    "         color='red',\n",
    "         label = 'EFConsTotGHA')    \n",
    "# plt.gca().set_color_cycle(colors)\n",
    "plt.legend()\n",
    "plt.title(\" Ecological Footprint vs Biocapacity for Egypt (gha)\")"
   ]
  },
  {
   "cell_type": "markdown",
   "metadata": {
    "_uuid": "027faa7822293a2998b7d291f4ede6069ceb908b"
   },
   "source": [
    "**Ecological Footprint vs Biocapcity  for the remaing countries**\n"
   ]
  },
  {
   "cell_type": "code",
   "execution_count": null,
   "metadata": {
    "_kg_hide-input": true,
    "_uuid": "f98a8cc98c4505b6d89cb042bf8d05c8f3646500"
   },
   "outputs": [],
   "source": [
    "fig=plt.figure(figsize=(27,27))\n",
    "count = 1 \n",
    "record ={0:['BiocapPerCap','EFConsPerCap'],1:['BiocapTotGHA','EFConsTotGHA']}\n",
    "for i in range (0,5):\n",
    "#     for j in range (0,2):\n",
    "    for r in record.keys():\n",
    "        plt.subplot2grid((5,2),(i,r))\n",
    "        plt.plot(extract_country_by_record(arab_df,arab_countries[count],record[r][0])['year'],\n",
    "                     extract_country_by_record(arab_df,arab_countries[count],record[r][0])['total'],\n",
    "                     color='green',\n",
    "                     label = record[r][0])\n",
    "        plt.plot(extract_country_by_record(arab_df,arab_countries[count],record[r][1])['year'],\n",
    "                     extract_country_by_record(arab_df,arab_countries[count],record[r][1])['total'],\n",
    "                     color='red',\n",
    "                     label = record[r][1])\n",
    "        plt.legend()\n",
    "        if(r==0):\n",
    "            plt.title(\"Ecological Footprint vs Biocapacity for {0} per capicta\".format(arab_countries[count]))\n",
    "        else:\n",
    "            plt.title(\"Ecological Footprint vs Biocapacity for {0} (gha)\".format(arab_countries[count]))\n",
    "            \n",
    "    count +=1"
   ]
  },
  {
   "cell_type": "code",
   "execution_count": null,
   "metadata": {
    "_kg_hide-input": true,
    "_uuid": "57303d8800929bf048e4a331cc81dd957db24b54"
   },
   "outputs": [],
   "source": [
    "fig=plt.figure(figsize=(27,27))\n",
    "for i in range (0,5):\n",
    "#     for j in range (0,2):\n",
    "    for r in record.keys():\n",
    "        plt.subplot2grid((5,2),(i,r))\n",
    "        plt.plot(extract_country_by_record(arab_df,arab_countries[count],record[r][0])['year'],\n",
    "                     extract_country_by_record(arab_df,arab_countries[count],record[r][0])['total'],\n",
    "                     color='red',\n",
    "                     label = record[r][0])\n",
    "        plt.plot(extract_country_by_record(arab_df,arab_countries[count],record[r][1])['year'],\n",
    "                     extract_country_by_record(arab_df,arab_countries[count],record[r][1])['total'],\n",
    "                     color='green',\n",
    "                     label = record[r][1])\n",
    "        plt.legend()\n",
    "        if(r==0):\n",
    "            plt.title(\"Ecological Footprint vs Biocapacity for {0} (gha per person)\".format(arab_countries[count]))\n",
    "        else:\n",
    "            plt.title(\"Ecological Footprint vs Biocapacity for {0} (gha)\".format(arab_countries[count]))\n",
    "            \n",
    "    count +=1"
   ]
  },
  {
   "cell_type": "code",
   "execution_count": null,
   "metadata": {
    "_kg_hide-input": true,
    "_uuid": "42939cde235e6a7cae10781cc91c30a7c5edd9ce"
   },
   "outputs": [],
   "source": [
    "fig=plt.figure(figsize=(27,27))\n",
    "for i in range (0,4):\n",
    "    if count < len(arab_countries):\n",
    "        for r in record.keys():\n",
    "            plt.subplot2grid((4,2),(i,r))\n",
    "            plt.plot(extract_country_by_record(arab_df,arab_countries[count],record[r][0])['year'],\n",
    "                         extract_country_by_record(arab_df,arab_countries[count],record[r][0])['total'],\n",
    "                         color='red',\n",
    "                         label = record[r][0])\n",
    "            plt.plot(extract_country_by_record(arab_df,arab_countries[count],record[r][1])['year'],\n",
    "                         extract_country_by_record(arab_df,arab_countries[count],record[r][1])['total'],\n",
    "                         color='green',\n",
    "                         label = record[r][1])\n",
    "            plt.legend()\n",
    "            if(r==0):\n",
    "                plt.title(\"Ecological Footprint vs Biocapacity for {0} (gha per person)\".format(arab_countries[count]))\n",
    "            else:\n",
    "                plt.title(\"Ecological Footprint vs Biocapacity for {0} (gha)\".format(arab_countries[count]))\n",
    "\n",
    "        count +=1"
   ]
  },
  {
   "cell_type": "code",
   "execution_count": null,
   "metadata": {
    "_kg_hide-input": true,
    "_uuid": "75c7f30b94b0a4debe8cbdb67f543b966729b0da"
   },
   "outputs": [],
   "source": [
    "fig=plt.figure(figsize=(27,27))\n",
    "for i in range (0,4):\n",
    "    if count < len(arab_countries):\n",
    "        for r in record.keys():\n",
    "            plt.subplot2grid((4,2),(i,r))\n",
    "            plt.plot(extract_country_by_record(arab_df,arab_countries[count],record[r][0])['year'],\n",
    "                         extract_country_by_record(arab_df,arab_countries[count],record[r][0])['total'],\n",
    "                         color='red',\n",
    "                         label = record[r][0])\n",
    "            plt.plot(extract_country_by_record(arab_df,arab_countries[count],record[r][1])['year'],\n",
    "                         extract_country_by_record(arab_df,arab_countries[count],record[r][1])['total'],\n",
    "                         color='green',\n",
    "                         label = record[r][1])\n",
    "            plt.legend()\n",
    "            if(r==0):\n",
    "                plt.title(\"Ecological Footprint vs Biocapacity for {0} (gha per person)\".format(arab_countries[count]))\n",
    "            else:\n",
    "                plt.title(\"Ecological Footprint vs Biocapacity for {0} (gha)\".format(arab_countries[count]))\n",
    "\n",
    "        count +=1"
   ]
  },
  {
   "cell_type": "markdown",
   "metadata": {
    "_uuid": "1f1882d8ff462532c93a097e79522f99809e1a1e"
   },
   "source": [
    "**All countries as one big country**"
   ]
  },
  {
   "cell_type": "code",
   "execution_count": null,
   "metadata": {
    "_kg_hide-input": true,
    "_uuid": "279bed1a75dfda64ec4d4e00da745cd85ed77d98"
   },
   "outputs": [],
   "source": [
    "Arab_BiocapTotal = []\n",
    "Arab_EFConsTotal = []\n",
    "Arab_BiocapPerCap = []\n",
    "Arab_EFConsPerCap = []\n",
    "world_BiocapTotal = []\n",
    "world_EFConsTotal = []\n",
    "mean_BiocapPerCap = []\n",
    "mean_EFConsPerCap = []\n",
    "for year in years :\n",
    "    sum_BiocapTotal_value = np.array(extract_countries_feature_by_year(arab_df,arab_countries,'total',year,record= 'BiocapTotGHA')[0]).sum()\n",
    "    sum_EFConsTotal_value = np.array(extract_countries_feature_by_year(arab_df,arab_countries,'total',year,record='EFConsTotGHA')[0]).sum()\n",
    "    sum_population_per_year = np.array(extract_countries_feature_by_year(arab_df,arab_countries,'population',year)[0]).sum()\n",
    "    world_BiocapTotal.append(np.array(extract_countries_feature_by_year(data,['World'],'total',year,record= 'BiocapTotGHA')[0]))\n",
    "    world_EFConsTotal.append(np.array(extract_countries_feature_by_year(data,['World'],'total',year,record= 'EFConsTotGHA')[0]))\n",
    "    Arab_BiocapTotal.append(sum_BiocapTotal_value)\n",
    "    Arab_EFConsTotal.append(sum_EFConsTotal_value)\n",
    "    Arab_BiocapPerCap.append(sum_BiocapTotal_value/sum_population_per_year)\n",
    "    Arab_EFConsPerCap.append(sum_EFConsTotal_value/sum_population_per_year)\n",
    "    mean_BiocapPerCap.append(np.array(extract_countries_feature_by_year(arab_df,arab_countries,'total',year)[0]).mean())\n",
    "    mean_EFConsPerCap.append(np.array(extract_countries_feature_by_year(arab_df,arab_countries,'total',year,record='EFConsPerCap')[0]).mean())"
   ]
  },
  {
   "cell_type": "code",
   "execution_count": null,
   "metadata": {
    "_kg_hide-input": true,
    "_uuid": "6d7d4e975bc7051572d8386d286bcde746a1a471"
   },
   "outputs": [],
   "source": [
    "fig = plt.figure(figsize=(10,7))\n",
    "sns.lineplot(years[19:], Arab_BiocapTotal[19:],color='green',label=\"BiocapTotGHA\")\n",
    "sns.lineplot(years[19:], Arab_EFConsTotal[19:],color='red',label=\"EFConsTotGHA\")\n",
    "plt.legend()\n",
    "plt.xlabel(\"year\")\n",
    "plt.ylabel(\"GHA\")\n",
    "plt.title(\"The Ecological Footprint vs Biocapacity for Arab countries (gha)\")\n"
   ]
  },
  {
   "cell_type": "code",
   "execution_count": null,
   "metadata": {
    "_kg_hide-input": true,
    "_uuid": "b20ba54e00f9dddd1788a0a414f0bddd9d05c433"
   },
   "outputs": [],
   "source": [
    "fig = plt.figure(figsize=(22,7))\n",
    "fig.dpi=200\n",
    "plt.subplot2grid((1,2),(0,0))\n",
    "sns.lineplot(years[19:], Arab_BiocapPerCap[19:],color='green',label=\"BiocapPerCap\")\n",
    "sns.lineplot(years[19:], Arab_EFConsPerCap[19:],color='red',label=\"EFConsPerCap\")\n",
    "plt.legend()\n",
    "plt.xlabel(\"year\")\n",
    "plt.ylabel(\"per person\")\n",
    "plt.title(\"The Ecological Footprint vs Biocapacity for Arab countries (per capita)\")\n",
    "plt.subplot2grid((1,2),(0,1))\n",
    "sns.lineplot(years[19:], mean_BiocapPerCap[19:],color='green',label=\"BiocapPerCap\")\n",
    "sns.lineplot(years[19:], mean_EFConsPerCap[19:],color='red',label=\"EFConsPerCap\")\n",
    "plt.legend()\n",
    "plt.xlabel(\"year\")\n",
    "plt.ylabel(\"mean value\")\n",
    "plt.title(\"Mean of the Ecological Footprint vs Biocapacity for Arab countries (per capita)\")\n",
    "# defict_res_2014 = mean_BiocapPerCap[-1] - mean_EFConsPerCap[-1]\n",
    "# # if defict_res_2014 < 0 :\n",
    "# #     print (\"The arab countries in 2014 has an Ecological deficit by {0}\".format(np.abs(defict_res_2014)))\n",
    "# # else:\n",
    "# #     print (\"The arab countries in 2014 has an Ecological reserve by {0}\".format(np.abs(defict_res_2014)))"
   ]
  },
  {
   "cell_type": "markdown",
   "metadata": {
    "_uuid": "f7e5c991603b7a52be0c64eadb45fcc34fb96dfa"
   },
   "source": [
    "The left plot shows the ecological footprint of all the arab countries as a one big country . The right plot shows the mean value of the ecological footprint of the countries as individuals.  The mean value plot has high values compared to the all countries as one plot . It indicates that there is a high variation in the ecological footprint  of countries as individuals which is shown in the previous plots."
   ]
  },
  {
   "cell_type": "markdown",
   "metadata": {
    "_uuid": "1da0cfe98e90cbd86c1459df33e28bc1d1a61233"
   },
   "source": [
    "**Analysing the Deficit/Reserve values of Ecological footprint**\n",
    "\n",
    "The deficit happens if the needs of the country exeeds its natural resources ability to renew itself. It means that they need extra resources to cover their needs. In contrary, the reserve happens if the needs could be covered by the available natural resources of the country or region. "
   ]
  },
  {
   "cell_type": "code",
   "execution_count": null,
   "metadata": {
    "_kg_hide-input": true,
    "_uuid": "549496a9227dd88cfcb6744c5f13e64b97b2bff8"
   },
   "outputs": [],
   "source": [
    "difference  = []\n",
    "countries_list = []\n",
    "deficit_or_reserve = []\n",
    "for country in arab_countries:\n",
    "    BiocapPerCap=np.array(extract_countries_feature_by_year(arab_df,[country],'total',2014)[0])\n",
    "    EFConsPerCap=np.array(extract_countries_feature_by_year(arab_df,[country],'total',2014,record=\"EFConsPerCap\")[0])\n",
    "    difference_value = BiocapPerCap - EFConsPerCap\n",
    "    if difference_value < 0 :\n",
    "        deficit_or_reserve.append (\"deficit\")\n",
    "        difference.append(difference_value[0])\n",
    "    if difference_value > 0 :\n",
    "        deficit_or_reserve.append(\"reserve\")\n",
    "        difference.append(difference_value[0])\n",
    "    if difference_value.size==0:\n",
    "        deficit_or_reserve.append(\"nan\")\n",
    "        difference.append(np.NAN)\n",
    "    countries_list.append(country)\n",
    "defict_reserve_df = pd.DataFrame({\"country\":countries_list,\"deficit/reserve\":deficit_or_reserve,\"value\":difference}).dropna().sort_values(by=\"value\",ascending=False)\n",
    "defict_reserve_df"
   ]
  },
  {
   "cell_type": "code",
   "execution_count": null,
   "metadata": {
    "_kg_hide-input": true,
    "_uuid": "5dc87d3f1984cd2fdedad74918deef1b09397d50"
   },
   "outputs": [],
   "source": [
    "fig = plt.figure(figsize=(12,8))\n",
    "sns.barplot(y=defict_reserve_df[\"country\"], x=defict_reserve_df[\"value\"],\n",
    "                hue=defict_reserve_df[\"deficit/reserve\"])\n",
    "plt.ylabel(\"\")\n",
    "plt.title(\"Ecological Deficit/Reserve for Arab countries (per capita)\")"
   ]
  },
  {
   "cell_type": "markdown",
   "metadata": {
    "_uuid": "7f72e9242414261b163b1f2e094b9ac844e003d8"
   },
   "source": [
    "After analysing the Ecological Footprint  vs Biocapacity in all  countries that has available data. We found that only Mauritania has reserved its resources and all the other countries has deficit ecological. \n",
    "\n",
    "The plot shows that the richest countries has the highest deficit and the poorest one has the lowest deficit. It indictes that the higher the income in the country the higher the consumption of its residents as they have the ability to buy more. The contrast happens with the poorest countries. "
   ]
  },
  {
   "cell_type": "markdown",
   "metadata": {
    "_uuid": "cb812119eab6411bcea2929d09952b118cf60fd4"
   },
   "source": [
    "**Calculate the Earth Overshoot Day**\n",
    "\n",
    "Earth Overshoot Day (EOD), is the calculated illustrative calendar date on which humanity’s resource consumption for the year exceeds Earth’s capacity to regenerate those resources that year. Earth Overshoot Day is calculated by dividing the world biocapacity (the amount of natural resources generated by Earth that year).\n",
    "\n",
    "$\\mathbf {Earth Overshoot Day = (  Biocapacity  /   Ecological Footprint ) x 365}$"
   ]
  },
  {
   "cell_type": "code",
   "execution_count": null,
   "metadata": {
    "_kg_hide-input": true,
    "_uuid": "6c844fb2bb63cecb90a40fe71603aa73882c77bc"
   },
   "outputs": [],
   "source": [
    "import datetime\n",
    "arab_eod_dates = []\n",
    "eod_dates_world=[]\n",
    "def calc_earth_overshot_day(biocap,ecofootp):\n",
    "    eod = (np.array(biocap) / np.array(ecofootp))*365\n",
    "    return eod\n",
    "eod_arab = calc_earth_overshot_day(Arab_BiocapTotal,Arab_EFConsTotal)\n",
    "eod_world = calc_earth_overshot_day(world_BiocapTotal,world_EFConsTotal)\n",
    "\n",
    "for i in range (0,len(eod_arab)):\n",
    "    if eod_arab[i]>365:\n",
    "        arab_eod_dates.append(\"no EOD\")\n",
    "    if eod_world[i]>365:\n",
    "        eod_dates_world.append(\"no EOD\")\n",
    "    if eod_arab[i] < 365:\n",
    "        date_arab = datetime.datetime(years[i],1,1) + datetime.timedelta(days=eod_arab[i])\n",
    "        arab_eod_dates.append(date_arab.strftime('%b-%d'))\n",
    "    if eod_world[i] < 365:\n",
    "        date_world = datetime.datetime(years[i],1,1) + datetime.timedelta(days=int(eod_world[i]))\n",
    "        eod_dates_world.append(date_world.strftime('%b-%d'))\n",
    "eod_df = pd.DataFrame({\"year\":years[19:],\" Arab Earth Overshoot Day\":arab_eod_dates[19:],\" World Earth Overshoot Day\":eod_dates_world[19:]})\n",
    "eod_df"
   ]
  },
  {
   "cell_type": "markdown",
   "metadata": {
    "_uuid": "cebfa81bcd5826b8987d5f2b08165a50f34d1439"
   },
   "source": [
    "# Carbon Footprint\n",
    "\n",
    "The carbon footprint is the required amount of forest land to absorb the emitted carbon. "
   ]
  },
  {
   "cell_type": "markdown",
   "metadata": {
    "_uuid": "3658ceea10201581ab96a1028d2801d673bcf732"
   },
   "source": [
    "**Arab Countries by Eecological Footprint of Carbon Consumbtion (per person) in 2014**"
   ]
  },
  {
   "cell_type": "code",
   "execution_count": null,
   "metadata": {
    "_kg_hide-input": true,
    "_uuid": "985b865c98622dcd6e673801250ec816d860681a"
   },
   "outputs": [],
   "source": [
    "fig = plt.figure(figsize=(15,8))\n",
    "Arab_carbon,available_countries,excluded_countries=extract_countries_feature_by_year(arab_df,arab_countries,'carbon',2014,record=\"EFConsPerCap\")\n",
    "carbon_df = pd.DataFrame({'country':available_countries,'carbon':Arab_carbon}).sort_values(by='carbon',ascending=False)\n",
    "ax=sns.barplot(carbon_df['carbon'],carbon_df['country'],palette=\"rocket\")\n",
    "plt.xlabel(\"Footprint of Carbon (GHA/person)\")\n",
    "plt.ylabel(\"\")\n",
    "plt.title(\"Arab Countries by Footprint of Carbon (GHA/person) in 2014\")\n",
    "print_excluded_countries(excluded_countries,2014)"
   ]
  },
  {
   "cell_type": "markdown",
   "metadata": {
    "_uuid": "d1c65711b8cb71ed517745b85ac73edcc5d399aa"
   },
   "source": [
    "The higher GDP countries have the larger carbon footprint per person. "
   ]
  },
  {
   "cell_type": "markdown",
   "metadata": {
    "_uuid": "4441577c6ebf3d72ce2265d07d65f26be7f6dab7"
   },
   "source": [
    "**The Ecological Footprint of Carbon for Arab Countries**"
   ]
  },
  {
   "cell_type": "code",
   "execution_count": null,
   "metadata": {
    "_kg_hide-input": true,
    "_uuid": "e836eaa5e7257a47116f6d055275c4d18390cad1"
   },
   "outputs": [],
   "source": [
    "Arab_EFConsCarbonPerCap=[]\n",
    "Arab_EFConsCarbonTot =[]\n",
    "for i in range (len(years)):\n",
    "    sum_EFConsCarbonTot_value = np.array(extract_countries_feature_by_year(arab_df,arab_countries,'carbon',years[i],record='EFConsTotGHA')[0]).sum()\n",
    "    Arab_EFConsCarbonTot.append(sum_EFConsCarbonTot_value)\n",
    "    Arab_EFConsCarbonPerCap.append(sum_EFConsCarbonTot_value/arab_countrs_population[i])"
   ]
  },
  {
   "cell_type": "code",
   "execution_count": null,
   "metadata": {
    "_kg_hide-input": true,
    "_uuid": "891a8a1e228feb17d7876f871c2ff8114d398225"
   },
   "outputs": [],
   "source": [
    "fig = plt.figure(figsize=(22,7))\n",
    "fig.dpi=200\n",
    "plt.subplot2grid((1,2),(0,0))\n",
    "sns.lineplot(years[19:], Arab_EFConsCarbonTot[19:],color='green')\n",
    "plt.xlabel(\"year\")\n",
    "plt.ylabel(\"Carbon Footprint (GHA)\")\n",
    "plt.title(\"The Ecological Footprint of Carbon for Arab Countries \")\n",
    "plt.subplot2grid((1,2),(0,1))\n",
    "sns.lineplot(years[19:], Arab_EFConsCarbonPerCap[19:],color='green')\n",
    "plt.xlabel(\"year\")\n",
    "plt.ylabel(\"Carbon Footprint(GHA/person)\")\n",
    "plt.title(\"The Ecological Footprint of Carbon for Arab Countries(per capita)\")"
   ]
  },
  {
   "cell_type": "markdown",
   "metadata": {
    "_uuid": "7ed5c77b5611a572d14b5abb1b29e6e672b6ee45"
   },
   "source": [
    "# Crop Land Footprint\n",
    "The crop land footprint measures the required crop land to meet the consumbtion needs. "
   ]
  },
  {
   "cell_type": "markdown",
   "metadata": {
    "_uuid": "6e75756937bc4b9e34c9d93b30320a1ce89c8436"
   },
   "source": [
    "**Arab Countries by Crop Land Footprint**"
   ]
  },
  {
   "cell_type": "code",
   "execution_count": null,
   "metadata": {
    "_kg_hide-input": true,
    "_uuid": "6897fba78960d830b428b445a4d93e4e225a21fd"
   },
   "outputs": [],
   "source": [
    "fig = plt.figure(figsize=(15,8))\n",
    "Arab_crop_land,available_countries,excluded_countries=extract_countries_feature_by_year(arab_df,arab_countries,'crop_land',2014,record=\"EFConsPerCap\")\n",
    "crob_land_df = pd.DataFrame({'country':available_countries,'crop_land':Arab_crop_land}).sort_values(by='crop_land',ascending=False)\n",
    "ax=sns.barplot(crob_land_df['crop_land'],crob_land_df['country'],palette=\"rocket\")\n",
    "plt.xlabel(\"Footprint of Crop Land (GHA/person)\")\n",
    "plt.ylabel(\"\")\n",
    "plt.title(\"Arab Countries by Footprint of Crop Land (GHA/person) in 2014\")\n",
    "print_excluded_countries(excluded_countries,2014)"
   ]
  },
  {
   "cell_type": "markdown",
   "metadata": {
    "_uuid": "0e65caeacd0125b5c3e6d0d6fcbc980f0c79f5a7"
   },
   "source": [
    "**Ecological Footprint of Crop Land**"
   ]
  },
  {
   "cell_type": "code",
   "execution_count": null,
   "metadata": {
    "_kg_hide-input": true,
    "_uuid": "b1c96c744758d2cdcf18e4280d8f4c6431d108aa"
   },
   "outputs": [],
   "source": [
    "Arab_EFConsCropLandPerCap=[]\n",
    "Arab_EFConsCropLandTot =[]\n",
    "for i in range (len(years)):\n",
    "    sum_EFConsCropLandTot_value = np.array(extract_countries_feature_by_year(arab_df,arab_countries,'crop_land',years[i],record='EFConsTotGHA')[0]).sum()\n",
    "    Arab_EFConsCropLandTot.append(sum_EFConsCropLandTot_value)\n",
    "    Arab_EFConsCropLandPerCap.append(sum_EFConsCropLandTot_value/arab_countrs_population[i])"
   ]
  },
  {
   "cell_type": "markdown",
   "metadata": {
    "_uuid": "5b3e44427e48229cdf1d843ef72960dfa0e26b16"
   },
   "source": [
    "The excluded countries from 1980 to 2010 are [Egypt , Algeria, Iraq, Mauritania, Morocco, Saudi Arabia, Comoros, Djibouti]"
   ]
  },
  {
   "cell_type": "code",
   "execution_count": null,
   "metadata": {
    "_kg_hide-input": true,
    "_uuid": "40d673fd93a60961297cce32f750f1f459633c05"
   },
   "outputs": [],
   "source": [
    "fig = plt.figure(figsize=(22,7))\n",
    "fig.dpi=200\n",
    "plt.subplot2grid((1,2),(0,0))\n",
    "sns.lineplot(years[19:50], Arab_EFConsCropLandTot[19:50],color='red')       # years[19:50] the years from 1980 to 2010\n",
    "sns.regplot(years[19:50], Arab_EFConsCropLandTot[19:50],color='green',ci=68,scatter_kws={\"s\": 0})\n",
    "plt.xlabel(\"year\")\n",
    "plt.ylabel(\"Crop Land Footprint (GHA)\")\n",
    "plt.title(\"The Ecological Footprint of Crop Land for Arab Countries \")\n",
    "plt.subplot2grid((1,2),(0,1))\n",
    "sns.lineplot(years[19:50], Arab_EFConsCropLandPerCap[19:50],color='red')\n",
    "sns.regplot(years[19:50], Arab_EFConsCropLandPerCap[19:50],color='green',ci=68,scatter_kws={\"s\": 0})\n",
    "plt.xlabel(\"year\")\n",
    "plt.ylabel(\"Crop Land Footprint(GHA/person)\")\n",
    "plt.title(\"The Ecological Footprint of Crop Land for Arab Countries(per capita)\")"
   ]
  },
  {
   "cell_type": "markdown",
   "metadata": {
    "_uuid": "86cf1e545ec0dd007a04937ef04ed4175685c57c"
   },
   "source": [
    "The two plots show that the overall Crop footprint has more growth rate  than the percapita Crop Land footprint."
   ]
  },
  {
   "cell_type": "markdown",
   "metadata": {
    "_uuid": "1c368519f3c6cb2b8a055d5b8f993bc13b92f321"
   },
   "source": [
    "## Conclusion\n",
    "\n",
    "As an arabian citizin, I tried to analyse the arab Eecological footprint to know how it reflects the political and economic situation in the arab countries and the middle east."
   ]
  }
 ],
 "metadata": {
  "kernelspec": {
   "display_name": "Python 3",
   "language": "python",
   "name": "python3"
  },
  "language_info": {
   "codemirror_mode": {
    "name": "ipython",
    "version": 3
   },
   "file_extension": ".py",
   "mimetype": "text/x-python",
   "name": "python",
   "nbconvert_exporter": "python",
   "pygments_lexer": "ipython3",
   "version": "3.6.6"
  }
 },
 "nbformat": 4,
 "nbformat_minor": 1
}
